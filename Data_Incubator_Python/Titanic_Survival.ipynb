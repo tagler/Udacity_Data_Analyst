{
 "cells": [
  {
   "cell_type": "markdown",
   "metadata": {},
   "source": [
    "# Kaggle - Titanic Survival Data Analysis\n"
   ]
  },
  {
   "cell_type": "markdown",
   "metadata": {},
   "source": [
    "## About\n",
    "\n",
    "This project investigated the Titanic Machine Learning from Disaster dataset from Kaggle. The following has been conducted: exploratory data analysis, statistical analysis, and prediction modeling. "
   ]
  },
  {
   "cell_type": "markdown",
   "metadata": {},
   "source": [
    "## Data and Methods \n",
    "\n",
    "Dataset: https://www.udacity.com/api/nodes/5420148578/supplemental_media/titanic-datacsv/download   \n",
    "Website: https://www.kaggle.com/c/titanic/data\n",
    "\n",
    "Software: Python 2.7.11 (Anaconda 2.4.1)   \n",
    "Operating System: Mac OS X 10.11.2   \n",
    "Hardware: Intel Core 2 Duo 2.4 GHz, 4 GB RAM"
   ]
  },
  {
   "cell_type": "code",
   "execution_count": 2,
   "metadata": {
    "collapsed": false
   },
   "outputs": [],
   "source": [
    "%matplotlib inline  \n",
    "import numpy as np\n",
    "import pandas as pd\n",
    "import matplotlib.pyplot as plt\n",
    "import scipy.stats as stats\n",
    "plt.style.use('ggplot')"
   ]
  },
  {
   "cell_type": "markdown",
   "metadata": {},
   "source": [
    "## Import Data \n",
    "\n",
    "The dataset was imported, and basic information (datatypes and statistics) was observed. "
   ]
  },
  {
   "cell_type": "code",
   "execution_count": 3,
   "metadata": {
    "collapsed": false
   },
   "outputs": [],
   "source": [
    "# import into Pandas Dataframe \n",
    "raw_data = pd.read_csv('titanic_data.csv')"
   ]
  },
  {
   "cell_type": "code",
   "execution_count": 4,
   "metadata": {
    "collapsed": false
   },
   "outputs": [
    {
     "name": "stdout",
     "output_type": "stream",
     "text": [
      "<class 'pandas.core.frame.DataFrame'>\n",
      "Int64Index: 891 entries, 0 to 890\n",
      "Data columns (total 12 columns):\n",
      "PassengerId    891 non-null int64\n",
      "Survived       891 non-null int64\n",
      "Pclass         891 non-null int64\n",
      "Name           891 non-null object\n",
      "Sex            891 non-null object\n",
      "Age            714 non-null float64\n",
      "SibSp          891 non-null int64\n",
      "Parch          891 non-null int64\n",
      "Ticket         891 non-null object\n",
      "Fare           891 non-null float64\n",
      "Cabin          204 non-null object\n",
      "Embarked       889 non-null object\n",
      "dtypes: float64(2), int64(5), object(5)\n",
      "memory usage: 90.5+ KB\n"
     ]
    }
   ],
   "source": [
    "# basic information about data \n",
    "raw_data.info()"
   ]
  },
  {
   "cell_type": "markdown",
   "metadata": {
    "collapsed": true
   },
   "source": [
    "## Clean Data\n",
    "\n",
    "The datatype of the \"Survived' column was converted to boolean. Similarly, the datatypes of the 'Sex', 'Pclass', and 'Embarked' columns were converted to category because this data is discrete and grouped.   "
   ]
  },
  {
   "cell_type": "code",
   "execution_count": 5,
   "metadata": {
    "collapsed": false
   },
   "outputs": [],
   "source": [
    "# assign correct data types\n",
    "raw_data['Survived'] = raw_data['Survived'].astype('bool')\n",
    "raw_data['Pclass'] = raw_data['Pclass'].astype('category')\n",
    "raw_data['Sex'] = raw_data['Sex'].astype('category')\n",
    "raw_data['Embarked'] = raw_data['Embarked'].astype('category')"
   ]
  },
  {
   "cell_type": "markdown",
   "metadata": {},
   "source": [
    "The 'Name' column was scraped to get the person's title. This might offer more insight beyond 'Sex'. "
   ]
  },
  {
   "cell_type": "code",
   "execution_count": 6,
   "metadata": {
    "collapsed": false
   },
   "outputs": [
    {
     "data": {
      "text/plain": [
       "Mr              517\n",
       "Miss            182\n",
       "Mrs             125\n",
       "Master           40\n",
       "Dr                7\n",
       "Rev               6\n",
       "Mlle              2\n",
       "Col               2\n",
       "Major             2\n",
       "Lady              1\n",
       "Jonkheer          1\n",
       "Don               1\n",
       "Ms                1\n",
       "Mme               1\n",
       "Capt              1\n",
       "the Countess      1\n",
       "Sir               1\n",
       "Name: Title, dtype: int64"
      ]
     },
     "execution_count": 6,
     "metadata": {},
     "output_type": "execute_result"
    }
   ],
   "source": [
    "# split out name titles and add new column \n",
    "raw_data_addtitle = raw_data.copy()\n",
    "def get_title(x):\n",
    "    return x.split(',')[1].split('.')[0].strip()\n",
    "raw_data_addtitle['Title'] = raw_data_addtitle['Name'].apply(get_title)\n",
    "raw_data_addtitle['Title'].value_counts()"
   ]
  },
  {
   "cell_type": "markdown",
   "metadata": {},
   "source": [
    "The rare titles (less than 6 frequency) were converted/renamed/grouped to simplify the analysis and have less groups. "
   ]
  },
  {
   "cell_type": "code",
   "execution_count": 7,
   "metadata": {
    "collapsed": false
   },
   "outputs": [
    {
     "data": {
      "text/plain": [
       "Mr        520\n",
       "Miss      185\n",
       "Mrs       125\n",
       "Master     40\n",
       "Dr          7\n",
       "Rev         6\n",
       "Navy        5\n",
       "Noble       3\n",
       "Name: Title, dtype: int64"
      ]
     },
     "execution_count": 7,
     "metadata": {},
     "output_type": "execute_result"
    }
   ],
   "source": [
    "# fix rare titles and group \n",
    "title_column = raw_data_addtitle['Title'].copy()\n",
    "for x in range(0, len(title_column) ):\n",
    "    title_name = title_column[x]\n",
    "    if title_name == 'Sir' or title_name == 'Don' or title_name == 'Mme':\n",
    "        title_column[x] = 'Mr'\n",
    "    elif title_name == 'Major' or title_name == 'Col' or title_name == 'Capt':\n",
    "        title_column[x] = 'Navy'\n",
    "    elif title_name == 'Jonkheer' or title_name == 'Lady' or title_name == 'the Countess':\n",
    "        title_column[x] = 'Noble'\n",
    "    elif title_name == 'Ms' or title_name == 'Mlle':\n",
    "        title_column[x] = 'Miss'\n",
    "raw_data_addtitle['Title-Fix'] = title_column\n",
    "title_column.value_counts()"
   ]
  },
  {
   "cell_type": "markdown",
   "metadata": {},
   "source": [
    "The category columns ('Sex', 'Pclass', 'Embarked', 'Title') were made into dummy columns and added to the dataset. This was done for the modeling/machine learning completed later in the project. This changes categorical data into binary data columns. "
   ]
  },
  {
   "cell_type": "code",
   "execution_count": 8,
   "metadata": {
    "collapsed": false
   },
   "outputs": [],
   "source": [
    "# make category variables into dummy variables/columns \n",
    "d_sex = pd.get_dummies(raw_data_addtitle['Sex']).astype('bool')\n",
    "d_pclass = pd.get_dummies(raw_data_addtitle['Pclass'], prefix=\"P\").astype('bool')\n",
    "d_embarked = pd.get_dummies(raw_data_addtitle['Embarked'], prefix=\"Embarked\").astype('bool')\n",
    "d_title = pd.get_dummies(raw_data_addtitle['Title-Fix'], prefix='Title').astype('bool')\n",
    "raw_data_addtitle_dummies = pd.concat([raw_data_addtitle, d_sex, d_pclass, d_embarked, d_title], \n",
    "                                      axis=1)"
   ]
  },
  {
   "cell_type": "markdown",
   "metadata": {},
   "source": [
    "Removed 'Cabin', 'Ticket', and 'Name' columns because the data was formated inconsistently, sparse, or did not appear to be strongly related to survival. "
   ]
  },
  {
   "cell_type": "code",
   "execution_count": 9,
   "metadata": {
    "collapsed": true
   },
   "outputs": [],
   "source": [
    "# remove cabin, ticket, and name columns\n",
    "raw_data_remove = raw_data_addtitle_dummies.drop(['Cabin','Ticket','Name'], axis=1)"
   ]
  },
  {
   "cell_type": "markdown",
   "metadata": {},
   "source": [
    "Removed observations with missing data. This was done to simplify the analysis and allow the use of prediction models. Alternatively, this data could be filled via imputation. "
   ]
  },
  {
   "cell_type": "code",
   "execution_count": 10,
   "metadata": {
    "collapsed": true
   },
   "outputs": [],
   "source": [
    "# remove rows with missing values  \n",
    "complete_data = raw_data_remove.dropna()"
   ]
  },
  {
   "cell_type": "markdown",
   "metadata": {},
   "source": [
    "## Exploratory Data Analysis"
   ]
  },
  {
   "cell_type": "markdown",
   "metadata": {},
   "source": [
    "The survival rate was found to be approximately 40% (288/712)"
   ]
  },
  {
   "cell_type": "code",
   "execution_count": 11,
   "metadata": {
    "collapsed": false
   },
   "outputs": [
    {
     "data": {
      "text/plain": [
       "0.4044943820224719"
      ]
     },
     "execution_count": 11,
     "metadata": {},
     "output_type": "execute_result"
    }
   ],
   "source": [
    "# percent that survived\n",
    "complete_data['Survived'].mean()"
   ]
  },
  {
   "cell_type": "code",
   "execution_count": 12,
   "metadata": {
    "collapsed": false
   },
   "outputs": [
    {
     "data": {
      "text/plain": [
       "False    424\n",
       "True     288\n",
       "Name: Survived, dtype: int64"
      ]
     },
     "execution_count": 12,
     "metadata": {},
     "output_type": "execute_result"
    }
   ],
   "source": [
    "# number of survived\n",
    "complete_data['Survived'].value_counts()"
   ]
  },
  {
   "cell_type": "markdown",
   "metadata": {},
   "source": [
    "Sex (male/female) vs. survival rate was investigated. The female survival rate appears to be greater than the male survival rate. "
   ]
  },
  {
   "cell_type": "code",
   "execution_count": 13,
   "metadata": {
    "collapsed": false
   },
   "outputs": [
    {
     "data": {
      "text/plain": [
       "<matplotlib.text.Text at 0x112eb13d0>"
      ]
     },
     "execution_count": 13,
     "metadata": {},
     "output_type": "execute_result"
    },
    {
     "data": {
      "image/png": "[encoded data removed]",
      "text/plain": [
       "<matplotlib.figure.Figure at 0x112cbde10>"
      ]
     },
     "metadata": {},
     "output_type": "display_data"
    }
   ],
   "source": [
    "# sex vs. survived \n",
    "plt.rcParams['figure.figsize'] = 5,4\n",
    "sex_survived_mean = complete_data.groupby('Sex')['Survived'].mean().sort_values(ascending=True)\n",
    "plot1 = sex_survived_mean.plot(kind='barh', alpha=0.75, \n",
    "                               title='Sex vs. Survival', \n",
    "                               color='red')\n",
    "plot1.set_ylabel(\"Survival\")"
   ]
  },
  {
   "cell_type": "markdown",
   "metadata": {},
   "source": [
    "Passenger class (P1, P2, and P3) vs. survival rate was investigated. The survival rate of the higher classes (P1 and P2) appears to be greater than the lower class (P3). (1 = 1st; 2 = 2nd; 3 = 3rd)"
   ]
  },
  {
   "cell_type": "code",
   "execution_count": 14,
   "metadata": {
    "collapsed": false
   },
   "outputs": [
    {
     "data": {
      "text/plain": [
       "<matplotlib.text.Text at 0x112f3dad0>"
      ]
     },
     "execution_count": 14,
     "metadata": {},
     "output_type": "execute_result"
    },
    {
     "data": {
      "image/png": "[encoded data removed]",
      "text/plain": [
       "<matplotlib.figure.Figure at 0x102eb91d0>"
      ]
     },
     "metadata": {},
     "output_type": "display_data"
    }
   ],
   "source": [
    "# class vs. survived \n",
    "plt.rcParams['figure.figsize'] = 6,5\n",
    "pclass_survived_mean = complete_data.groupby('Pclass')['Survived'].mean().sort_values()\n",
    "plot2 = pclass_survived_mean.plot(kind='barh', alpha=0.75, \n",
    "                                  title='Class vs. Survival', \n",
    "                                  color='green')\n",
    "plot2.set_xlabel(\"Survival\")"
   ]
  },
  {
   "cell_type": "markdown",
   "metadata": {},
   "source": [
    "Embarked location (C, S, and Q) vs. survival rate was investigated. The survival rate of C appears to be greater than both S and Q. (C = Cherbourg; Q = Queenstown; S = Southampton)"
   ]
  },
  {
   "cell_type": "code",
   "execution_count": 15,
   "metadata": {
    "collapsed": false
   },
   "outputs": [
    {
     "data": {
      "text/plain": [
       "<matplotlib.text.Text at 0x112f685d0>"
      ]
     },
     "execution_count": 15,
     "metadata": {},
     "output_type": "execute_result"
    },
    {
     "data": {
      "image/png": "[encoded data removed]",
      "text/plain": [
       "<matplotlib.figure.Figure at 0x112fb5110>"
      ]
     },
     "metadata": {},
     "output_type": "display_data"
    }
   ],
   "source": [
    "# Embarked vs. survived \n",
    "plt.rcParams['figure.figsize'] = 6,5\n",
    "embarked_survived_mean = complete_data.groupby('Embarked')['Survived'].mean().sort_values()\n",
    "plot2 = embarked_survived_mean.plot(kind='barh', alpha=0.75, \n",
    "                                    title = \"Embarked vs. Survival\", \n",
    "                                    color='gold')\n",
    "plot2.set_xlabel(\"Survival\")"
   ]
  },
  {
   "cell_type": "markdown",
   "metadata": {},
   "source": [
    "Number of siblings/spouses aboard vs. survival rate was investigated. While there appears to be a difference between values, a consistent pattern was not observed. This plot suggested that having 1 or 2 siblings/spouses aboard increased survival, but having 3 or 4 siblings/spouses aboard decreased survival. "
   ]
  },
  {
   "cell_type": "code",
   "execution_count": 16,
   "metadata": {
    "collapsed": false
   },
   "outputs": [
    {
     "data": {
      "text/plain": [
       "<matplotlib.text.Text at 0x1141aae90>"
      ]
     },
     "execution_count": 16,
     "metadata": {},
     "output_type": "execute_result"
    },
    {
     "data": {
      "image/png": "[encoded data removed]",
      "text/plain": [
       "<matplotlib.figure.Figure at 0x112dc3f90>"
      ]
     },
     "metadata": {},
     "output_type": "display_data"
    }
   ],
   "source": [
    "# SibSp vs. survived \n",
    "plt.rcParams['figure.figsize'] = 6,5\n",
    "sibsp_survived_mean = complete_data.groupby('SibSp')['Survived'].mean().sort_values()\n",
    "plot7 = sibsp_survived_mean.plot(kind='barh', alpha=0.75, \n",
    "                                 title = \"Siblings/Spouses vs. Survival\", \n",
    "                                 color='blue')\n",
    "plot7.set_xlabel(\"Survival\")"
   ]
  },
  {
   "cell_type": "markdown",
   "metadata": {},
   "source": [
    "Number of parents/children vs. survival was investigated. While there appears to be a difference between values, a consistent pattern was not observed. This plot suggested that having 1-3 parents/children aboard increased survival, but having 4-6 decreased survival.  "
   ]
  },
  {
   "cell_type": "code",
   "execution_count": 17,
   "metadata": {
    "collapsed": false
   },
   "outputs": [
    {
     "data": {
      "text/plain": [
       "<matplotlib.text.Text at 0x11423a3d0>"
      ]
     },
     "execution_count": 17,
     "metadata": {},
     "output_type": "execute_result"
    },
    {
     "data": {
      "image/png": "[encoded data removed]",
      "text/plain": [
       "<matplotlib.figure.Figure at 0x11438efd0>"
      ]
     },
     "metadata": {},
     "output_type": "display_data"
    }
   ],
   "source": [
    "# Parch vs. survived \n",
    "plt.rcParams['figure.figsize'] = 6,5\n",
    "parch_survived_mean = complete_data.groupby('Parch')['Survived'].mean().sort_values()\n",
    "plot2 = parch_survived_mean.plot(kind='barh', alpha=0.75, \n",
    "                                 title = \"Parents/Children vs. Survival\", \n",
    "                                 color='darkred')\n",
    "plot2.set_xlabel(\"Survival\")"
   ]
  },
  {
   "cell_type": "markdown",
   "metadata": {},
   "source": [
    "Sex, passenger class, and embarked location vs. survival rate were further investigated in groups. This plot suggested that the interaction of these variables have an effect on survival. "
   ]
  },
  {
   "cell_type": "code",
   "execution_count": 18,
   "metadata": {
    "collapsed": false,
    "scrolled": true
   },
   "outputs": [
    {
     "data": {
      "text/plain": [
       "<matplotlib.text.Text at 0x112f41790>"
      ]
     },
     "execution_count": 18,
     "metadata": {},
     "output_type": "execute_result"
    },
    {
     "data": {
      "image/png": "[encoded data removed]",
      "text/plain": [
       "<matplotlib.figure.Figure at 0x114350fd0>"
      ]
     },
     "metadata": {},
     "output_type": "display_data"
    }
   ],
   "source": [
    "# sex/class/embarked vs. survived \n",
    "plt.rcParams['figure.figsize'] = 7,5\n",
    "g = ['Sex','Pclass','Embarked']\n",
    "sex_embarked_pclass_survived_mean = complete_data.groupby(g)['Survived'].mean().sort_values()\n",
    "plot4 = sex_embarked_pclass_survived_mean.plot(kind='barh', alpha=0.75, \n",
    "                                                title=\"Sex/Class/Embarked vs. Survival\", \n",
    "                                                color='purple')\n",
    "plot4.set_xlabel(\"Survival\")"
   ]
  },
  {
   "cell_type": "markdown",
   "metadata": {},
   "source": [
    "The distribution of age vs. survival rate was investigated. There was not a clear difference between the two distributions. On the histogram, there might be is a difference at young ages. Moreover, the boxplot shows no difference. "
   ]
  },
  {
   "cell_type": "code",
   "execution_count": 19,
   "metadata": {
    "collapsed": false
   },
   "outputs": [
    {
     "data": {
      "text/plain": [
       "<matplotlib.text.Text at 0x11496f3d0>"
      ]
     },
     "execution_count": 19,
     "metadata": {},
     "output_type": "execute_result"
    },
    {
     "data": {
      "image/png": "[encoded data removed]",
      "text/plain": [
       "<matplotlib.figure.Figure at 0x112d353d0>"
      ]
     },
     "metadata": {},
     "output_type": "display_data"
    }
   ],
   "source": [
    "# histogram age vs survival\n",
    "plt.rcParams['figure.figsize'] = 6,5\n",
    "false_age = complete_data[complete_data['Survived'] == False]['Age'].reset_index(drop=True)\n",
    "true_age = complete_data[complete_data['Survived'] == True]['Age'].reset_index(drop=True)\n",
    "survived_age = pd.concat([false_age, true_age], axis=1)\n",
    "survived_age.columns = ['Survived: False', 'Survived: True']\n",
    "plot5 = survived_age.plot(kind='hist', alpha=0.75, bins=25, \n",
    "                          title = \"Age Distribution vs. Survival\", \n",
    "                          color = ['blue','red'])\n",
    "plot5.set_xlabel(\"Age\")"
   ]
  },
  {
   "cell_type": "code",
   "execution_count": 20,
   "metadata": {
    "collapsed": false
   },
   "outputs": [
    {
     "data": {
      "text/html": [
       "<div>\n",
       "<table border=\"1\" class=\"dataframe\">\n",
       "  <thead>\n",
       "    <tr style=\"text-align: right;\">\n",
       "      <th></th>\n",
       "      <th>Survived: False</th>\n",
       "      <th>Survived: True</th>\n",
       "    </tr>\n",
       "  </thead>\n",
       "  <tbody>\n",
       "    <tr>\n",
       "      <th>count</th>\n",
       "      <td>424.000000</td>\n",
       "      <td>288.000000</td>\n",
       "    </tr>\n",
       "    <tr>\n",
       "      <th>mean</th>\n",
       "      <td>30.626179</td>\n",
       "      <td>28.193299</td>\n",
       "    </tr>\n",
       "    <tr>\n",
       "      <th>std</th>\n",
       "      <td>14.172110</td>\n",
       "      <td>14.859146</td>\n",
       "    </tr>\n",
       "    <tr>\n",
       "      <th>min</th>\n",
       "      <td>1.000000</td>\n",
       "      <td>0.420000</td>\n",
       "    </tr>\n",
       "    <tr>\n",
       "      <th>25%</th>\n",
       "      <td>21.000000</td>\n",
       "      <td>19.000000</td>\n",
       "    </tr>\n",
       "    <tr>\n",
       "      <th>50%</th>\n",
       "      <td>28.000000</td>\n",
       "      <td>28.000000</td>\n",
       "    </tr>\n",
       "    <tr>\n",
       "      <th>75%</th>\n",
       "      <td>39.000000</td>\n",
       "      <td>36.000000</td>\n",
       "    </tr>\n",
       "    <tr>\n",
       "      <th>max</th>\n",
       "      <td>74.000000</td>\n",
       "      <td>80.000000</td>\n",
       "    </tr>\n",
       "  </tbody>\n",
       "</table>\n",
       "</div>"
      ],
      "text/plain": [
       "       Survived: False  Survived: True\n",
       "count       424.000000      288.000000\n",
       "mean         30.626179       28.193299\n",
       "std          14.172110       14.859146\n",
       "min           1.000000        0.420000\n",
       "25%          21.000000       19.000000\n",
       "50%          28.000000       28.000000\n",
       "75%          39.000000       36.000000\n",
       "max          74.000000       80.000000"
      ]
     },
     "execution_count": 20,
     "metadata": {},
     "output_type": "execute_result"
    }
   ],
   "source": [
    "survived_age.describe()"
   ]
  },
  {
   "cell_type": "code",
   "execution_count": 21,
   "metadata": {
    "collapsed": false
   },
   "outputs": [
    {
     "data": {
      "text/plain": [
       "<matplotlib.text.Text at 0x1143d2e10>"
      ]
     },
     "execution_count": 21,
     "metadata": {},
     "output_type": "execute_result"
    },
    {
     "data": {
      "image/png": "[encoded data removed]",
      "text/plain": [
       "<matplotlib.figure.Figure at 0x11472bc10>"
      ]
     },
     "metadata": {},
     "output_type": "display_data"
    }
   ],
   "source": [
    "# boxplot age vs. survival \n",
    "plt.rcParams['figure.figsize'] = 5,4\n",
    "plot5_2 = survived_age.plot(kind='box', title='Boxplot of Age vs. Survival', color='black', \n",
    "                            showfliers=False, sym='r+')\n",
    "plot5_2.set_ylabel(\"Age\")"
   ]
  },
  {
   "cell_type": "markdown",
   "metadata": {},
   "source": [
    "The distribution of fare/price vs. survival rate was investigated. There was not a clear difference between the two distributions. On the histogram, there might be is a difference at low fares. The boxplot showed a larger range and higher median for survivors than non-survivors."
   ]
  },
  {
   "cell_type": "code",
   "execution_count": 22,
   "metadata": {
    "collapsed": false
   },
   "outputs": [],
   "source": [
    "# histogram fare vs. survival\n",
    "plt.rcParams['figure.figsize'] = 6,5\n",
    "false_fare = complete_data[complete_data['Survived'] == False]['Fare'].reset_index(drop=True)\n",
    "true_fare = complete_data[complete_data['Survived'] == True]['Fare'].reset_index(drop=True)\n",
    "survived_fare = pd.concat([false_fare, true_fare], axis=1)\n",
    "survived_fare.columns = ['Survived: False', 'Survived: True']"
   ]
  },
  {
   "cell_type": "code",
   "execution_count": 23,
   "metadata": {
    "collapsed": false
   },
   "outputs": [
    {
     "data": {
      "text/plain": [
       "<matplotlib.text.Text at 0x114caf250>"
      ]
     },
     "execution_count": 23,
     "metadata": {},
     "output_type": "execute_result"
    },
    {
     "data": {
      "image/png": "[encoded data removed]",
      "text/plain": [
       "<matplotlib.figure.Figure at 0x1148c4bd0>"
      ]
     },
     "metadata": {},
     "output_type": "display_data"
    }
   ],
   "source": [
    "plot6 = survived_fare.plot(kind='hist', alpha=0.75, bins=20, \n",
    "                           title='Fare Distribution vs. Survival', \n",
    "                           color=['green','orange'])\n",
    "plot6.set_xlabel(\"Fare\")"
   ]
  },
  {
   "cell_type": "code",
   "execution_count": 24,
   "metadata": {
    "collapsed": false
   },
   "outputs": [
    {
     "data": {
      "text/html": [
       "<div>\n",
       "<table border=\"1\" class=\"dataframe\">\n",
       "  <thead>\n",
       "    <tr style=\"text-align: right;\">\n",
       "      <th></th>\n",
       "      <th>Survived: False</th>\n",
       "      <th>Survived: True</th>\n",
       "    </tr>\n",
       "  </thead>\n",
       "  <tbody>\n",
       "    <tr>\n",
       "      <th>count</th>\n",
       "      <td>424.000000</td>\n",
       "      <td>288.000000</td>\n",
       "    </tr>\n",
       "    <tr>\n",
       "      <th>mean</th>\n",
       "      <td>22.965456</td>\n",
       "      <td>51.647672</td>\n",
       "    </tr>\n",
       "    <tr>\n",
       "      <th>std</th>\n",
       "      <td>31.448825</td>\n",
       "      <td>70.664499</td>\n",
       "    </tr>\n",
       "    <tr>\n",
       "      <th>min</th>\n",
       "      <td>0.000000</td>\n",
       "      <td>0.000000</td>\n",
       "    </tr>\n",
       "    <tr>\n",
       "      <th>25%</th>\n",
       "      <td>7.895800</td>\n",
       "      <td>13.000000</td>\n",
       "    </tr>\n",
       "    <tr>\n",
       "      <th>50%</th>\n",
       "      <td>11.887500</td>\n",
       "      <td>26.250000</td>\n",
       "    </tr>\n",
       "    <tr>\n",
       "      <th>75%</th>\n",
       "      <td>26.550000</td>\n",
       "      <td>65.000000</td>\n",
       "    </tr>\n",
       "    <tr>\n",
       "      <th>max</th>\n",
       "      <td>263.000000</td>\n",
       "      <td>512.329200</td>\n",
       "    </tr>\n",
       "  </tbody>\n",
       "</table>\n",
       "</div>"
      ],
      "text/plain": [
       "       Survived: False  Survived: True\n",
       "count       424.000000      288.000000\n",
       "mean         22.965456       51.647672\n",
       "std          31.448825       70.664499\n",
       "min           0.000000        0.000000\n",
       "25%           7.895800       13.000000\n",
       "50%          11.887500       26.250000\n",
       "75%          26.550000       65.000000\n",
       "max         263.000000      512.329200"
      ]
     },
     "execution_count": 24,
     "metadata": {},
     "output_type": "execute_result"
    }
   ],
   "source": [
    "survived_fare.describe()"
   ]
  },
  {
   "cell_type": "code",
   "execution_count": 25,
   "metadata": {
    "collapsed": false
   },
   "outputs": [
    {
     "data": {
      "text/plain": [
       "<matplotlib.text.Text at 0x1152acb50>"
      ]
     },
     "execution_count": 25,
     "metadata": {},
     "output_type": "execute_result"
    },
    {
     "data": {
      "image/png": "[encoded data removed]",
      "text/plain": [
       "<matplotlib.figure.Figure at 0x1141b46d0>"
      ]
     },
     "metadata": {},
     "output_type": "display_data"
    }
   ],
   "source": [
    "# boxplot fare vs. survival \n",
    "plt.rcParams['figure.figsize'] = 5,4\n",
    "plot6_2 = survived_fare.plot(kind='box', title='Boxplot of Fare vs. Survival', \n",
    "                             color='black', \n",
    "                             showfliers=False, sym='r+')\n",
    "plot6_2.set_ylabel(\"Fare\")"
   ]
  },
  {
   "cell_type": "markdown",
   "metadata": {},
   "source": [
    "### Correlation Matrix "
   ]
  },
  {
   "cell_type": "code",
   "execution_count": 26,
   "metadata": {
    "collapsed": false
   },
   "outputs": [],
   "source": [
    "# correlation matrix\n",
    "# source: http://stackoverflow.com/questions/29432629\n",
    "def plot_corr(df,size=7):\n",
    "    corr = df.corr()\n",
    "    fig, ax = plt.subplots(figsize=(size, size))\n",
    "    ax.matshow(corr, cmap='bwr')\n",
    "    plt.grid(False)\n",
    "    plt.xticks(range(len(corr.columns)), corr.columns, rotation=90)\n",
    "    plt.yticks(range(len(corr.columns)), corr.columns)"
   ]
  },
  {
   "cell_type": "code",
   "execution_count": 27,
   "metadata": {
    "collapsed": false
   },
   "outputs": [
    {
     "data": {
      "image/png": "[encoded data removed]",
      "text/plain": [
       "<matplotlib.figure.Figure at 0x114e0d8d0>"
      ]
     },
     "metadata": {},
     "output_type": "display_data"
    }
   ],
   "source": [
    "plot_corr(complete_data)"
   ]
  },
  {
   "cell_type": "markdown",
   "metadata": {},
   "source": [
    "## Statistical Analysis"
   ]
  },
  {
   "cell_type": "markdown",
   "metadata": {},
   "source": [
    "### Chi-Square Test for Categorical Data vs. Survival "
   ]
  },
  {
   "cell_type": "markdown",
   "metadata": {},
   "source": [
    "The chi-square test was used to look for significant differences in the categorical variables sex, passenger class, and embarked location vs. survival. All of these variable were found to have statistically significant differences (p < 0.05, reject null hypothesis)."
   ]
  },
  {
   "cell_type": "code",
   "execution_count": 28,
   "metadata": {
    "collapsed": false
   },
   "outputs": [
    {
     "data": {
      "text/html": [
       "<div>\n",
       "<table border=\"1\" class=\"dataframe\">\n",
       "  <thead>\n",
       "    <tr style=\"text-align: right;\">\n",
       "      <th></th>\n",
       "      <th>female</th>\n",
       "      <th>male</th>\n",
       "    </tr>\n",
       "  </thead>\n",
       "  <tbody>\n",
       "    <tr>\n",
       "      <th>False</th>\n",
       "      <td>64</td>\n",
       "      <td>360</td>\n",
       "    </tr>\n",
       "    <tr>\n",
       "      <th>True</th>\n",
       "      <td>195</td>\n",
       "      <td>93</td>\n",
       "    </tr>\n",
       "  </tbody>\n",
       "</table>\n",
       "</div>"
      ],
      "text/plain": [
       "       female  male\n",
       "False      64   360\n",
       "True      195    93"
      ]
     },
     "execution_count": 28,
     "metadata": {},
     "output_type": "execute_result"
    }
   ],
   "source": [
    "# survived vs. sex\n",
    "count_female_survived = complete_data[ complete_data['Sex'] == 'female' ]['Survived'].value_counts()\n",
    "count_male_survived = complete_data[ complete_data['Sex'] == 'male' ]['Survived'].value_counts()\n",
    "count_sex_survived = pd.concat([count_female_survived,count_male_survived], axis=1)\n",
    "count_sex_survived.columns = ['female','male']\n",
    "count_sex_survived"
   ]
  },
  {
   "cell_type": "code",
   "execution_count": 29,
   "metadata": {
    "collapsed": false
   },
   "outputs": [
    {
     "data": {
      "text/plain": [
       "Power_divergenceResult(statistic=array([  66.25868726,  157.37086093]), pvalue=array([  3.95460979e-16,   4.24729554e-36]))"
      ]
     },
     "execution_count": 29,
     "metadata": {},
     "output_type": "execute_result"
    }
   ],
   "source": [
    "stats.chisquare(count_sex_survived)"
   ]
  },
  {
   "cell_type": "code",
   "execution_count": 30,
   "metadata": {
    "collapsed": false
   },
   "outputs": [
    {
     "data": {
      "text/html": [
       "<div>\n",
       "<table border=\"1\" class=\"dataframe\">\n",
       "  <thead>\n",
       "    <tr style=\"text-align: right;\">\n",
       "      <th></th>\n",
       "      <th>Pclass_1</th>\n",
       "      <th>Pclass_2</th>\n",
       "      <th>Pclass_3</th>\n",
       "    </tr>\n",
       "  </thead>\n",
       "  <tbody>\n",
       "    <tr>\n",
       "      <th>False</th>\n",
       "      <td>64</td>\n",
       "      <td>90</td>\n",
       "      <td>270</td>\n",
       "    </tr>\n",
       "    <tr>\n",
       "      <th>True</th>\n",
       "      <td>120</td>\n",
       "      <td>83</td>\n",
       "      <td>85</td>\n",
       "    </tr>\n",
       "  </tbody>\n",
       "</table>\n",
       "</div>"
      ],
      "text/plain": [
       "       Pclass_1  Pclass_2  Pclass_3\n",
       "False        64        90       270\n",
       "True        120        83        85"
      ]
     },
     "execution_count": 30,
     "metadata": {},
     "output_type": "execute_result"
    }
   ],
   "source": [
    "# survived vs. 3 classes\n",
    "count_pc1_survived = complete_data[ complete_data['Pclass'] == 1 ]['Survived'].value_counts()\n",
    "count_pc2_survived = complete_data[ complete_data['Pclass'] == 2 ]['Survived'].value_counts()\n",
    "count_pc3_survived = complete_data[ complete_data['Pclass'] == 3 ]['Survived'].value_counts()\n",
    "count_pc_survived = pd.concat([count_pc1_survived,count_pc2_survived,count_pc3_survived], axis=1)\n",
    "count_pc_survived.columns = ['Pclass_1','Pclass_2','Pclass_3']\n",
    "count_pc_survived"
   ]
  },
  {
   "cell_type": "code",
   "execution_count": 31,
   "metadata": {
    "collapsed": false
   },
   "outputs": [
    {
     "data": {
      "text/plain": [
       "Power_divergenceResult(statistic=array([ 17.04347826,   0.28323699,  96.4084507 ]), pvalue=array([  3.65336317e-05,   5.94587383e-01,   9.34673526e-23]))"
      ]
     },
     "execution_count": 31,
     "metadata": {},
     "output_type": "execute_result"
    }
   ],
   "source": [
    "stats.chisquare(count_pc_survived)"
   ]
  },
  {
   "cell_type": "code",
   "execution_count": 32,
   "metadata": {
    "collapsed": false
   },
   "outputs": [
    {
     "data": {
      "text/html": [
       "<div>\n",
       "<table border=\"1\" class=\"dataframe\">\n",
       "  <thead>\n",
       "    <tr style=\"text-align: right;\">\n",
       "      <th></th>\n",
       "      <th>Embarked_S</th>\n",
       "      <th>Embarked_C</th>\n",
       "      <th>Embarked_Q</th>\n",
       "    </tr>\n",
       "  </thead>\n",
       "  <tbody>\n",
       "    <tr>\n",
       "      <th>False</th>\n",
       "      <td>353</td>\n",
       "      <td>51</td>\n",
       "      <td>20</td>\n",
       "    </tr>\n",
       "    <tr>\n",
       "      <th>True</th>\n",
       "      <td>201</td>\n",
       "      <td>79</td>\n",
       "      <td>8</td>\n",
       "    </tr>\n",
       "  </tbody>\n",
       "</table>\n",
       "</div>"
      ],
      "text/plain": [
       "       Embarked_S  Embarked_C  Embarked_Q\n",
       "False         353          51          20\n",
       "True          201          79           8"
      ]
     },
     "execution_count": 32,
     "metadata": {},
     "output_type": "execute_result"
    }
   ],
   "source": [
    "# survived vs. embarked \n",
    "count_s_survived = complete_data[ complete_data['Embarked'] == 'S' ]['Survived'].value_counts()\n",
    "count_c_survived = complete_data[ complete_data['Embarked'] == 'C' ]['Survived'].value_counts()\n",
    "count_q_survived = complete_data[ complete_data['Embarked'] == 'Q' ]['Survived'].value_counts()\n",
    "count_embarked_survived = pd.concat([count_s_survived,count_c_survived,count_q_survived], axis=1)\n",
    "count_embarked_survived.columns = ['Embarked_S','Embarked_C','Embarked_Q']\n",
    "count_embarked_survived"
   ]
  },
  {
   "cell_type": "code",
   "execution_count": 33,
   "metadata": {
    "collapsed": false
   },
   "outputs": [
    {
     "data": {
      "text/plain": [
       "Power_divergenceResult(statistic=array([ 41.70397112,   6.03076923,   5.14285714]), pvalue=array([  1.06193077e-10,   1.40586053e-02,   2.33422020e-02]))"
      ]
     },
     "execution_count": 33,
     "metadata": {},
     "output_type": "execute_result"
    }
   ],
   "source": [
    "stats.chisquare(count_embarked_survived)"
   ]
  },
  {
   "cell_type": "markdown",
   "metadata": {},
   "source": [
    "### T-Test for Numerical Data vs. Survival"
   ]
  },
  {
   "cell_type": "markdown",
   "metadata": {},
   "source": [
    "T-tests were conducted to look for significant differences in age, fare, siblings/spouses, and parents/children vs. survival. Significant differences were found with respect to age and parents/children (p < 0.05, reject null hypothesis). No significant difference was found with respect to fare/price and siblings/spouses. survival (p > 0.05, do not reject null hypothesis)."
   ]
  },
  {
   "cell_type": "code",
   "execution_count": 34,
   "metadata": {
    "collapsed": false
   },
   "outputs": [
    {
     "data": {
      "text/plain": [
       "Ttest_indResult(statistic=-2.1844862149398256, pvalue=0.029314977546010718)"
      ]
     },
     "execution_count": 34,
     "metadata": {},
     "output_type": "execute_result"
    }
   ],
   "source": [
    "# survived vs. age\n",
    "stats.ttest_ind( complete_data[ complete_data['Survived'] == True ]['Age'],\n",
    "                 complete_data[ complete_data['Survived'] == False ]['Age'], \n",
    "                 equal_var=False )           "
   ]
  },
  {
   "cell_type": "code",
   "execution_count": 35,
   "metadata": {
    "collapsed": false
   },
   "outputs": [
    {
     "data": {
      "text/plain": [
       "Ttest_indResult(statistic=6.4669402027739755, pvalue=3.2142231329618292e-10)"
      ]
     },
     "execution_count": 35,
     "metadata": {},
     "output_type": "execute_result"
    }
   ],
   "source": [
    "# survived vs. fare/price\n",
    "stats.ttest_ind( complete_data[ complete_data['Survived'] == True ]['Fare'],\n",
    "                 complete_data[ complete_data['Survived'] == False ]['Fare'], \n",
    "                 equal_var=False )         "
   ]
  },
  {
   "cell_type": "code",
   "execution_count": 36,
   "metadata": {
    "collapsed": false
   },
   "outputs": [
    {
     "data": {
      "text/plain": [
       "Ttest_indResult(statistic=-0.44158185760313012, pvalue=0.65892640287932047)"
      ]
     },
     "execution_count": 36,
     "metadata": {},
     "output_type": "execute_result"
    }
   ],
   "source": [
    "# survived vs. sibsp (siblings and spouses)\n",
    "stats.ttest_ind( complete_data[ complete_data['Survived'] == True ]['SibSp'],\n",
    "                 complete_data[ complete_data['Survived'] == False ]['SibSp'], \n",
    "                 equal_var=False )        "
   ]
  },
  {
   "cell_type": "code",
   "execution_count": 37,
   "metadata": {
    "collapsed": false
   },
   "outputs": [
    {
     "data": {
      "text/plain": [
       "Ttest_indResult(statistic=2.5905139169253277, pvalue=0.0097986266257334299)"
      ]
     },
     "execution_count": 37,
     "metadata": {},
     "output_type": "execute_result"
    }
   ],
   "source": [
    "# survived vs. parch (parents and children)\n",
    "stats.ttest_ind( complete_data[ complete_data['Survived'] == True ]['Parch'],\n",
    "                 complete_data[ complete_data['Survived'] == False ]['Parch'], \n",
    "                 equal_var=False )    "
   ]
  },
  {
   "cell_type": "markdown",
   "metadata": {},
   "source": [
    "## Prediction Models "
   ]
  },
  {
   "cell_type": "markdown",
   "metadata": {},
   "source": [
    "### Base Model"
   ]
  },
  {
   "cell_type": "markdown",
   "metadata": {},
   "source": [
    "Base prediction model is most common result (no survivors), which is aproximately 60% accurate. "
   ]
  },
  {
   "cell_type": "code",
   "execution_count": 38,
   "metadata": {
    "collapsed": false
   },
   "outputs": [
    {
     "data": {
      "text/plain": [
       "0.5955056179775281"
      ]
     },
     "execution_count": 38,
     "metadata": {},
     "output_type": "execute_result"
    }
   ],
   "source": [
    "# base model accuracy, if no survivors\n",
    "# confusion matrix\n",
    "# source: http://stackoverflow.com/questions/2148543/\n",
    "from sklearn.metrics import confusion_matrix\n",
    "pred_bool = np.zeros(len(complete_data['Survived']))\n",
    "known_bool = np.array( complete_data['Survived'].astype('bool') )\n",
    "cm = confusion_matrix(known_bool, pred_bool)\n",
    "# function that returns accuracy from confusion matrix\n",
    "def cmatrix(x):\n",
    "     return ( x[0][0] + x[1][1] ).astype(float) / ( x[0][0] + x[1][1] + x[0][1] + x[1][0] )\n",
    "cmatrix(cm)"
   ]
  },
  {
   "cell_type": "markdown",
   "metadata": {},
   "source": [
    "### Logistic Regression Prediction Model"
   ]
  },
  {
   "cell_type": "markdown",
   "metadata": {},
   "source": [
    "A linear/logistic regression was preformed with the variables determined to be significant above. Via trial-and-error, the coefficients of 'Age', 'Sex/Male', 'Pclass_1', 'Pclass_2', 'P_class3', 'SibSp', 'Title_Master', and 'Title_Miss' were found to significant (95% CI does not include 0). Note: this is likely just one of various models. Due to the interaction of variables, different combinations of variables change the coefficients that appear to be significant. Also, this is likely not the best or optimal model. It is just one of many combinations of significant variable coefficients. "
   ]
  },
  {
   "cell_type": "code",
   "execution_count": 39,
   "metadata": {
    "collapsed": false
   },
   "outputs": [
    {
     "name": "stdout",
     "output_type": "stream",
     "text": [
      "Optimization terminated successfully.\n",
      "         Current function value: 0.417442\n",
      "         Iterations 6\n"
     ]
    }
   ],
   "source": [
    "# logistic regression model \n",
    "# source: http://blog.yhat.com/posts/logistic-regression-and-python.html\n",
    "# source: http://stackoverflow.com/questions/23048690/how-to-fit-a-model-to-my-testing-set-in-statsmodels-python\n",
    "import statsmodels.api as sm\n",
    "model_data = complete_data.drop(['PassengerId','Pclass','Sex','female',\n",
    "                                 'Embarked','Title','Title-Fix'], axis=1) \n",
    "logit = sm.Logit( model_data['Survived'], \n",
    "                  model_data[['male','Age','P_1','P_2','P_3','SibSp',\n",
    "                              'Title_Master','Title_Miss']].astype(float) )\n",
    "result = logit.fit()"
   ]
  },
  {
   "cell_type": "code",
   "execution_count": 40,
   "metadata": {
    "collapsed": false
   },
   "outputs": [
    {
     "name": "stdout",
     "output_type": "stream",
     "text": [
      "                           Logit Regression Results                           \n",
      "==============================================================================\n",
      "Dep. Variable:               Survived   No. Observations:                  712\n",
      "Model:                          Logit   Df Residuals:                      704\n",
      "Method:                           MLE   Df Model:                            7\n",
      "Date:                Sun, 07 Feb 2016   Pseudo R-squ.:                  0.3814\n",
      "Time:                        00:12:11   Log-Likelihood:                -297.22\n",
      "converged:                       True   LL-Null:                       -480.45\n",
      "                                        LLR p-value:                 3.670e-75\n",
      "================================================================================\n",
      "                   coef    std err          z      P>|z|      [95.0% Conf. Int.]\n",
      "--------------------------------------------------------------------------------\n",
      "male            -3.4622      0.318    -10.896      0.000        -4.085    -2.839\n",
      "Age             -0.0343      0.010     -3.572      0.000        -0.053    -0.015\n",
      "P_1              4.7287      0.590      8.020      0.000         3.573     5.884\n",
      "P_2              3.1322      0.479      6.539      0.000         2.193     4.071\n",
      "P_3              2.0138      0.447      4.507      0.000         1.138     2.889\n",
      "SibSp           -0.6420      0.132     -4.857      0.000        -0.901    -0.383\n",
      "Title_Master     3.1093      0.576      5.396      0.000         1.980     4.239\n",
      "Title_Miss      -0.7139      0.361     -1.978      0.048        -1.421    -0.006\n",
      "================================================================================\n"
     ]
    }
   ],
   "source": [
    "print result.summary()"
   ]
  },
  {
   "cell_type": "code",
   "execution_count": 41,
   "metadata": {
    "collapsed": false
   },
   "outputs": [
    {
     "data": {
      "text/plain": [
       "array([[369,  55],\n",
       "       [ 65, 223]])"
      ]
     },
     "execution_count": 41,
     "metadata": {},
     "output_type": "execute_result"
    }
   ],
   "source": [
    "# logistic model confusion matrix\n",
    "v = ['male','Age','P_1','P_2','P_3', 'SibSp','Title_Master','Title_Miss']\n",
    "pred = np.array( result.predict( model_data[v].astype('float')) )\n",
    "pred_bool = pred > 0.5\n",
    "known_bool = np.array( model_data['Survived'].astype('bool') )\n",
    "cm2 = confusion_matrix(known_bool, pred_bool)\n",
    "cm2"
   ]
  },
  {
   "cell_type": "code",
   "execution_count": 42,
   "metadata": {
    "collapsed": false
   },
   "outputs": [
    {
     "data": {
      "text/plain": [
       "<matplotlib.text.Text at 0x116fc1c90>"
      ]
     },
     "execution_count": 42,
     "metadata": {},
     "output_type": "execute_result"
    },
    {
     "data": {
      "image/png": "[encoded data removed]",
      "text/plain": [
       "<matplotlib.figure.Figure at 0x116faa3d0>"
      ]
     },
     "metadata": {},
     "output_type": "display_data"
    }
   ],
   "source": [
    "# plot confusion matrix\n",
    "plt.rcParams['figure.figsize'] = 1.75,1.75\n",
    "plt.matshow(cm2, fignum=False, cmap='Blues', vmin=0, vmax=369)\n",
    "ax = plt.axes()\n",
    "ax.xaxis.set_ticks_position(\"bottom\")\n",
    "plt.colorbar()\n",
    "plt.grid(False)\n",
    "plt.xlabel('Predicted')\n",
    "plt.ylabel('Actual')"
   ]
  },
  {
   "cell_type": "markdown",
   "metadata": {},
   "source": [
    "The accuracy of the logistic model was found to be approximately 83%. An improvement of about 23% over the base model. "
   ]
  },
  {
   "cell_type": "code",
   "execution_count": 43,
   "metadata": {
    "collapsed": false
   },
   "outputs": [
    {
     "data": {
      "text/plain": [
       "0.8314606741573034"
      ]
     },
     "execution_count": 43,
     "metadata": {},
     "output_type": "execute_result"
    }
   ],
   "source": [
    "# logistic model accuracy \n",
    "cmatrix(cm2)"
   ]
  },
  {
   "cell_type": "markdown",
   "metadata": {},
   "source": [
    "### Random Forest Prediction Model \n"
   ]
  },
  {
   "cell_type": "markdown",
   "metadata": {},
   "source": [
    "A random forest model was preformed with all variables.  "
   ]
  },
  {
   "cell_type": "code",
   "execution_count": 44,
   "metadata": {
    "collapsed": true
   },
   "outputs": [],
   "source": [
    "# random forest with all variables \n",
    "# source: www.kaggle.com/c/titanic/details/getting-started-with-random-forests\n",
    "from sklearn.ensemble import RandomForestClassifier \n",
    "forest = RandomForestClassifier(n_estimators = 100)\n",
    "rf_data = model_data.drop(['Survived'], axis=1)\n",
    "forest = forest.fit(rf_data,\n",
    "                    model_data['Survived'])\n",
    "output = forest.predict(rf_data.astype(float))"
   ]
  },
  {
   "cell_type": "code",
   "execution_count": 45,
   "metadata": {
    "collapsed": false
   },
   "outputs": [
    {
     "data": {
      "text/plain": [
       "array([[422,   2],\n",
       "       [  6, 282]])"
      ]
     },
     "execution_count": 45,
     "metadata": {},
     "output_type": "execute_result"
    }
   ],
   "source": [
    "# random forest full confusion matrix \n",
    "cm3 = confusion_matrix(known_bool, output)\n",
    "cm3"
   ]
  },
  {
   "cell_type": "code",
   "execution_count": 46,
   "metadata": {
    "collapsed": false
   },
   "outputs": [
    {
     "data": {
      "text/plain": [
       "<matplotlib.text.Text at 0x1172f1310>"
      ]
     },
     "execution_count": 46,
     "metadata": {},
     "output_type": "execute_result"
    },
    {
     "data": {
      "image/png": "[encoded data removed]",
      "text/plain": [
       "<matplotlib.figure.Figure at 0x11535e950>"
      ]
     },
     "metadata": {},
     "output_type": "display_data"
    }
   ],
   "source": [
    "# plot confusion matrix\n",
    "plt.rcParams['figure.figsize'] = 1.75,1.75\n",
    "plt.matshow(cm3, fignum=False, cmap='Blues', vmin=0, vmax=422)\n",
    "ax = plt.axes()\n",
    "ax.xaxis.set_ticks_position(\"bottom\")\n",
    "plt.colorbar()\n",
    "plt.grid(False)\n",
    "plt.xlabel('Predicted')\n",
    "plt.ylabel('Actual')"
   ]
  },
  {
   "cell_type": "markdown",
   "metadata": {},
   "source": [
    "The accuracy of the full random forest model was approximately 99%. An improvement of 39% over the base model. "
   ]
  },
  {
   "cell_type": "code",
   "execution_count": 47,
   "metadata": {
    "collapsed": false
   },
   "outputs": [
    {
     "data": {
      "text/plain": [
       "0.9887640449438202"
      ]
     },
     "execution_count": 47,
     "metadata": {},
     "output_type": "execute_result"
    }
   ],
   "source": [
    "# random forest full model accuracy\n",
    "cmatrix(cm3)"
   ]
  },
  {
   "cell_type": "markdown",
   "metadata": {},
   "source": [
    "The most important variables in the full random forest model were found to be 'Age', 'Fare', 'Title_Mr', 'Sex/male', and 'Pclass 3'. "
   ]
  },
  {
   "cell_type": "code",
   "execution_count": 48,
   "metadata": {
    "collapsed": false
   },
   "outputs": [],
   "source": [
    "# random forest variable importance \n",
    "# source: scikit-learn.org/stable/auto_examples/ensemble/plot_forest_importances.html\n",
    "plt.rcParams['figure.figsize'] = 8,6\n",
    "importances = forest.feature_importances_\n",
    "varimp = pd.Series( importances, index=rf_data.columns).sort_values(ascending=True)"
   ]
  },
  {
   "cell_type": "code",
   "execution_count": 49,
   "metadata": {
    "collapsed": false
   },
   "outputs": [
    {
     "data": {
      "text/plain": [
       "<matplotlib.axes._subplots.AxesSubplot at 0x1170ee050>"
      ]
     },
     "execution_count": 49,
     "metadata": {},
     "output_type": "execute_result"
    },
    {
     "data": {
      "image/png": "[encoded data removed]",
      "text/plain": [
       "<matplotlib.figure.Figure at 0x1151a7a50>"
      ]
     },
     "metadata": {},
     "output_type": "display_data"
    }
   ],
   "source": [
    "varimp.plot(kind='barh', title='Random Forest Variable Importance', color='Crimson')"
   ]
  },
  {
   "cell_type": "markdown",
   "metadata": {},
   "source": [
    "## Conclusions "
   ]
  },
  {
   "cell_type": "markdown",
   "metadata": {},
   "source": [
    "### Exploratory Data Analysis \n",
    "\n",
    "This exploratory data analysis of the Titanic dataset suggested that the following conditions made it more likely to survive: being female, having a higher class passenger ticket (1 or 2), and embarking from Southampton or Cherbourg. It is important to note that these variables appear to be correlated/related to higher survival and this is no indication of causation. Also, due to the large number of variables and possible interactions, it is difficult to find relationship/correlations when looking at only a few (1-3) variables at a time. \n",
    "\n",
    "### Statistical Data Analysis \n",
    "\n",
    "The statistical analysis of the Titanic dataset found significant differences (p < 0.05) in survival due to sex, passenger class ticket, embarking location, age, and parents/children aboard. It was determined that the following conditions made it more likely to survive: being female, having a higher class passenger ticket (1 or 2), embarking from Southampton or Cherbourg, being younger, and having more parents/children aboard. It is important to note that these variables were investigated individually and were not in controlled groups (all other variables were not held constant). Finally, the interactions of these variables were not considered, which would likely result in different conclusions. Nevertheless, these results made intuitive sense and contributed to the development of prediction models. \n",
    "\n",
    "### Simplifications and Limitations \n",
    "\n",
    "To simplify this analysis, two columns 'Cabin' and 'Ticket' were removed due to sparse/missing data and inconsistent formating. The 'Cabin' data need to be further investigated and included in the analysis. Missing values ('Age', 'Cabin', and 'Embarked') could potentially be imputed using models built from the other variables. Moreover, the siblings/spouse and parents/children variables do not show connections/networks between the individuals; this could potentially be added to look for patterns. Additional data, which might have improved this analysis, are education, occupation, and marital status. \n",
    "\n",
    "### Next Steps\n",
    "\n",
    "- Prediction models need to be tested with outside data (test set) to properly determine accuracy \n",
    "- Random forest model needs to be refined to avoid overfitting (remove unnecessary variables)\n",
    "- Investigate variable columns 'Cabin' and 'Ticket' and create additional features \n",
    "- Consider transforming siblings/spouses and parents/children data in category/ordinal datatypes \n",
    "- Consider imputation of missing values "
   ]
  }
 ],
 "metadata": {
  "anaconda-cloud": {},
  "kernelspec": {
   "display_name": "Python [Root]",
   "language": "python",
   "name": "Python [Root]"
  },
  "language_info": {
   "codemirror_mode": {
    "name": "ipython",
    "version": 2
   },
   "file_extension": ".py",
   "mimetype": "text/x-python",
   "name": "python",
   "nbconvert_exporter": "python",
   "pygments_lexer": "ipython2",
   "version": "2.7.11"
  }
 },
 "nbformat": 4,
 "nbformat_minor": 0
}
